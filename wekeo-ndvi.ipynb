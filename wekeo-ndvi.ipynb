{
 "nbformat": 4,
 "nbformat_minor": 0,
 "metadata": {
  "colab": {
   "provenance": []
  },
  "kernelspec": {
   "name": "python3",
   "display_name": "Python 3 (ipykernel)",
   "language": "python"
  },
  "language_info": {
   "name": "python"
  }
 },
 "cells": [
  {
   "metadata": {},
   "cell_type": "code",
   "source": [
    "!pip install hda -U\n",
    "!pip install xarray"
   ],
   "outputs": [],
   "execution_count": null
  },
  {
   "metadata": {},
   "cell_type": "code",
   "source": "wekeo_dir = 'sample_data/wekeo_dir'",
   "outputs": [],
   "execution_count": null
  },
  {
   "cell_type": "code",
   "source": [
    "import pandas as pd\n",
    "\n",
    "pd.set_option('display.max_rows', 20)"
   ],
   "metadata": {
    "id": "o-4qPGiSh1Ux"
   },
   "outputs": [],
   "execution_count": null
  },
  {
   "cell_type": "code",
   "source": [
    "import os\n",
    "\n",
    "user = os.getenv(\"user\")\n",
    "password = os.getenv(\"password\")"
   ],
   "metadata": {
    "id": "J9azZGdXh-q6"
   },
   "outputs": [],
   "execution_count": null
  },
  {
   "metadata": {},
   "cell_type": "code",
   "source": [
    "from hda import Client, Configuration\n",
    "\n",
    "conf = Configuration(user = user, password = password)\n",
    "hda_client = Client(config = conf)"
   ],
   "outputs": [],
   "execution_count": null
  },
  {
   "cell_type": "code",
   "source": [
    "query = {\n",
    "  \"dataset_id\": \"EO:CLMS:DAT:CLMS_GLOBAL_NDVI_1KM_V2_10DAILY_NETCDF\",\n",
    "  \"productType\": \"NDVI\",\n",
    "  \"productionStatus\": \"ARCHIVED\",\n",
    "  \"acquisitionType\": \"NOMINAL\",\n",
    "  \"platform\": \"PROBA-V\",\n",
    "  \"processingCenter\": \"VITO\",\n",
    "  \"resolution\": \"1000\",\n",
    "  \"bbox\": [\n",
    "    -10,\n",
    "    30,\n",
    "    180,\n",
    "    90\n",
    "  ],\n",
    "  \"startdate\": \"2017-12-31T04:00:00.000Z\",\n",
    "  \"enddate\": \"2024-09-01T06:00:00.000Z\",\n",
    "  \"itemsPerPage\": 200,\n",
    "  \"startIndex\": 0\n",
    "}"
   ],
   "metadata": {
    "id": "jPgUoiYljPhX"
   },
   "outputs": [],
   "execution_count": null
  },
  {
   "cell_type": "code",
   "source": [
    "matches = hda_client.search(query)\n",
    "matches.download(download_dir=wekeo_dir)"
   ],
   "metadata": {
    "colab": {
     "base_uri": "https://localhost:8080/"
    },
    "id": "6KsmndcSjaVa",
    "outputId": "8ad32ce0-08ed-4096-8b8f-4797358bc55c",
    "collapsed": true
   },
   "outputs": [],
   "execution_count": null
  },
  {
   "cell_type": "code",
   "source": [
    "import xarray as xr\n",
    "\n",
    "ds = xr.open_mfdataset(f\"./{wekeo_dir}/*.nc\")"
   ],
   "metadata": {
    "id": "I4I_7xpVz8jV",
    "outputId": "b9566412-6f72-4674-ac03-4bc1b8d7c0b1",
    "colab": {
     "base_uri": "https://localhost:8080/"
    }
   },
   "outputs": [],
   "execution_count": null
  },
  {
   "cell_type": "code",
   "source": [
    "coarsen_ds = ds.coarsen(lat=56, lon=70, boundary='pad').mean()\n",
    "coarsen_ds['year_month'] = coarsen_ds['time'].dt.year * 100 + coarsen_ds['time'].dt.month\n",
    "\n",
    "coarsen_ds['OLD_NDVI'] = coarsen_ds['NDVI'].shift(time=1).fillna(coarsen_ds['NDVI'])\n",
    "coarsen_ds['RNDVI'] = coarsen_ds['NDVI'].shift(lon=-1).fillna(coarsen_ds['NDVI'])\n",
    "coarsen_ds['LNDVI'] = coarsen_ds['NDVI'].shift(lon=1).fillna(coarsen_ds['NDVI'])\n",
    "coarsen_ds['TNDVI'] = coarsen_ds['NDVI'].shift(lat=-1).fillna(coarsen_ds['NDVI'])\n",
    "coarsen_ds['BNDVI'] = coarsen_ds['NDVI'].shift(lat=1).fillna(coarsen_ds['NDVI'])\n",
    "grouped_ds = coarsen_ds.groupby('year_month').mean()"
   ],
   "metadata": {
    "colab": {
     "base_uri": "https://localhost:8080/"
    },
    "id": "Ms54k22k0Rlf",
    "outputId": "7254a3f3-5932-4e69-e217-9c594adf2b0e"
   },
   "outputs": [],
   "execution_count": null
  },
  {
   "source": "grouped_ds.to_netcdf(\"ndvi_train.nc4\", engine=\"h5netcdf\", invalid_netcdf=True)",
   "cell_type": "code",
   "metadata": {
    "id": "d7R4F6moCP8-",
    "outputId": "60646939-d044-46f0-8b80-f5add98ff283",
    "colab": {
     "base_uri": "https://localhost:8080/",
     "height": 405
    }
   },
   "outputs": [],
   "execution_count": null
  }
 ]
}
