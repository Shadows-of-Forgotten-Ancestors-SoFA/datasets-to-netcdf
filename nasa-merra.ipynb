{
 "nbformat": 4,
 "nbformat_minor": 0,
 "metadata": {
  "colab": {
   "provenance": []
  },
  "kernelspec": {
   "name": "python3",
   "display_name": "Python 3 (ipykernel)",
   "language": "python"
  },
  "language_info": {
   "name": "python"
  }
 },
 "cells": [
  {
   "metadata": {
    "ExecuteTime": {
     "end_time": "2024-10-06T15:51:36.620065Z",
     "start_time": "2024-10-06T15:51:30.050634Z"
    }
   },
   "cell_type": "code",
   "source": "!cd sample_data/nasa_dir/ && wget --user=ashotvdovychenko --ask-password --content-disposition -i urls.txt",
   "outputs": [
    {
     "name": "stdout",
     "output_type": "stream",
     "text": [
      "^C\n"
     ]
    }
   ],
   "execution_count": 2
  },
  {
   "metadata": {},
   "cell_type": "code",
   "outputs": [],
   "execution_count": null,
   "source": "!pip install xarray"
  },
  {
   "metadata": {},
   "cell_type": "code",
   "outputs": [],
   "execution_count": null,
   "source": "nasa_dir = 'sample_data/nasa_dir'"
  },
  {
   "cell_type": "code",
   "source": [
    "import pandas as pd\n",
    "\n",
    "pd.set_option('display.max_rows', None)"
   ],
   "metadata": {
    "id": "HOc7YLaED3oG"
   },
   "outputs": [],
   "execution_count": null
  },
  {
   "metadata": {},
   "cell_type": "code",
   "outputs": [],
   "execution_count": null,
   "source": [
    "import xarray as xr\n",
    "\n",
    "ds = xr.open_mfdataset(f\"./{nasa_dir}/*.nc4\")\n",
    "# Create a new coordinate with year-month in timestamp style\n",
    "ds['year_month'] = ds['time'].dt.year * 100 + ds['time'].dt.month\n",
    "\n",
    "# Shift data by 1 time step\n",
    "ds['OLD_DUCMASS'] = ds['DUCMASS'].shift(time=1).fillna(ds['DUCMASS'])\n",
    "ds['RDUCMASS'] = ds['DUCMASS'].shift(lon=-1).fillna(ds['DUCMASS'])\n",
    "ds['LDUCMASS'] = ds['DUCMASS'].shift(lon=1).fillna(ds['DUCMASS'])\n",
    "ds['TDUCMASS'] = ds['DUCMASS'].shift(lat=-1).fillna(ds['DUCMASS'])\n",
    "ds['BDUCMASS'] = ds['DUCMASS'].shift(lat=1).fillna(ds['DUCMASS'])\n",
    "\n",
    "# Group by this new year-month coordinate\n",
    "grouped_ds = ds.groupby('year_month').mean()"
   ]
  },
  {
   "metadata": {},
   "cell_type": "code",
   "outputs": [],
   "execution_count": null,
   "source": "grouped_ds.to_netcdf(\"nasa_train.nc4\", engine=\"h5netcdf\", invalid_netcdf=True)"
  }
 ]
}
